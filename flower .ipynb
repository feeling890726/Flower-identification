{
 "cells": [
  {
   "cell_type": "code",
   "execution_count": null,
   "metadata": {},
   "outputs": [
    {
     "name": "stdout",
     "output_type": "stream",
     "text": [
      "['bluebell', 'buttercup', 'coltsfoot', 'cowslip', 'crocus', 'Daffodil', 'Daisy', 'dandelion', 'fritillary', 'iris', 'lilyvalley', 'pansy', 'Snowdrop', 'sunflower', 'tigerlily', 'tulip', 'windflower']\n"
     ]
    },
    {
     "name": "stderr",
     "output_type": "stream",
     "text": [
      "100%|█████████████████████████████████████████████████████████████████████████████████| 80/80 [00:00<00:00, 228.73it/s]\n",
      " 36%|█████████████████████████████▎                                                   | 29/80 [00:00<00:00, 287.34it/s]"
     ]
    },
    {
     "name": "stdout",
     "output_type": "stream",
     "text": [
      "80\n"
     ]
    },
    {
     "name": "stderr",
     "output_type": "stream",
     "text": [
      "100%|█████████████████████████████████████████████████████████████████████████████████| 80/80 [00:00<00:00, 274.67it/s]\n",
      " 68%|██████████████████████████████████████████████████████▋                          | 54/80 [00:00<00:00, 264.97it/s]"
     ]
    },
    {
     "name": "stdout",
     "output_type": "stream",
     "text": [
      "160\n"
     ]
    },
    {
     "name": "stderr",
     "output_type": "stream",
     "text": [
      "100%|█████████████████████████████████████████████████████████████████████████████████| 80/80 [00:00<00:00, 259.90it/s]\n",
      " 66%|█████████████████████████████████████████████████████▋                           | 53/80 [00:00<00:00, 263.38it/s]"
     ]
    },
    {
     "name": "stdout",
     "output_type": "stream",
     "text": [
      "240\n"
     ]
    },
    {
     "name": "stderr",
     "output_type": "stream",
     "text": [
      "100%|█████████████████████████████████████████████████████████████████████████████████| 80/80 [00:00<00:00, 252.09it/s]\n",
      " 35%|████████████████████████████▎                                                    | 28/80 [00:00<00:00, 276.05it/s]"
     ]
    },
    {
     "name": "stdout",
     "output_type": "stream",
     "text": [
      "320\n"
     ]
    },
    {
     "name": "stderr",
     "output_type": "stream",
     "text": [
      "100%|█████████████████████████████████████████████████████████████████████████████████| 80/80 [00:00<00:00, 239.72it/s]\n",
      " 35%|████████████████████████████▎                                                    | 28/80 [00:00<00:00, 276.23it/s]"
     ]
    },
    {
     "name": "stdout",
     "output_type": "stream",
     "text": [
      "400\n"
     ]
    },
    {
     "name": "stderr",
     "output_type": "stream",
     "text": [
      "100%|█████████████████████████████████████████████████████████████████████████████████| 80/80 [00:00<00:00, 267.12it/s]\n",
      " 71%|█████████████████████████████████████████████████████████▋                       | 57/80 [00:00<00:00, 283.93it/s]"
     ]
    },
    {
     "name": "stdout",
     "output_type": "stream",
     "text": [
      "480\n"
     ]
    },
    {
     "name": "stderr",
     "output_type": "stream",
     "text": [
      "100%|█████████████████████████████████████████████████████████████████████████████████| 80/80 [00:00<00:00, 270.32it/s]\n",
      " 64%|███████████████████████████████████████████████████▋                             | 51/80 [00:00<00:00, 246.80it/s]"
     ]
    },
    {
     "name": "stdout",
     "output_type": "stream",
     "text": [
      "560\n"
     ]
    },
    {
     "name": "stderr",
     "output_type": "stream",
     "text": [
      "100%|█████████████████████████████████████████████████████████████████████████████████| 80/80 [00:00<00:00, 253.33it/s]\n",
      " 38%|██████████████████████████████▍                                                  | 30/80 [00:00<00:00, 292.22it/s]"
     ]
    },
    {
     "name": "stdout",
     "output_type": "stream",
     "text": [
      "640\n"
     ]
    },
    {
     "name": "stderr",
     "output_type": "stream",
     "text": [
      "100%|█████████████████████████████████████████████████████████████████████████████████| 80/80 [00:00<00:00, 276.82it/s]\n",
      " 38%|██████████████████████████████▍                                                  | 30/80 [00:00<00:00, 295.84it/s]"
     ]
    },
    {
     "name": "stdout",
     "output_type": "stream",
     "text": [
      "720\n"
     ]
    },
    {
     "name": "stderr",
     "output_type": "stream",
     "text": [
      "100%|█████████████████████████████████████████████████████████████████████████████████| 80/80 [00:00<00:00, 280.95it/s]\n",
      " 61%|█████████████████████████████████████████████████▌                               | 49/80 [00:00<00:00, 239.84it/s]"
     ]
    },
    {
     "name": "stdout",
     "output_type": "stream",
     "text": [
      "800\n"
     ]
    },
    {
     "name": "stderr",
     "output_type": "stream",
     "text": [
      "100%|█████████████████████████████████████████████████████████████████████████████████| 80/80 [00:00<00:00, 243.16it/s]\n",
      " 36%|█████████████████████████████▎                                                   | 29/80 [00:00<00:00, 289.74it/s]"
     ]
    },
    {
     "name": "stdout",
     "output_type": "stream",
     "text": [
      "880\n"
     ]
    },
    {
     "name": "stderr",
     "output_type": "stream",
     "text": [
      "100%|█████████████████████████████████████████████████████████████████████████████████| 80/80 [00:00<00:00, 280.08it/s]\n",
      " 68%|██████████████████████████████████████████████████████▋                          | 54/80 [00:00<00:00, 268.70it/s]"
     ]
    },
    {
     "name": "stdout",
     "output_type": "stream",
     "text": [
      "960\n"
     ]
    },
    {
     "name": "stderr",
     "output_type": "stream",
     "text": [
      "100%|█████████████████████████████████████████████████████████████████████████████████| 80/80 [00:00<00:00, 264.53it/s]\n",
      " 36%|█████████████████████████████▎                                                   | 29/80 [00:00<00:00, 284.86it/s]"
     ]
    },
    {
     "name": "stdout",
     "output_type": "stream",
     "text": [
      "1040\n"
     ]
    },
    {
     "name": "stderr",
     "output_type": "stream",
     "text": [
      "100%|█████████████████████████████████████████████████████████████████████████████████| 80/80 [00:00<00:00, 261.98it/s]\n",
      " 31%|█████████████████████████▎                                                       | 25/80 [00:00<00:00, 245.65it/s]"
     ]
    },
    {
     "name": "stdout",
     "output_type": "stream",
     "text": [
      "1120\n"
     ]
    },
    {
     "name": "stderr",
     "output_type": "stream",
     "text": [
      "100%|█████████████████████████████████████████████████████████████████████████████████| 80/80 [00:00<00:00, 228.55it/s]\n",
      " 34%|███████████████████████████▎                                                     | 27/80 [00:00<00:00, 262.07it/s]"
     ]
    },
    {
     "name": "stdout",
     "output_type": "stream",
     "text": [
      "1200\n"
     ]
    },
    {
     "name": "stderr",
     "output_type": "stream",
     "text": [
      "100%|█████████████████████████████████████████████████████████████████████████████████| 80/80 [00:00<00:00, 229.69it/s]\n",
      " 39%|███████████████████████████████▍                                                 | 31/80 [00:00<00:00, 301.11it/s]"
     ]
    },
    {
     "name": "stdout",
     "output_type": "stream",
     "text": [
      "1280\n"
     ]
    },
    {
     "name": "stderr",
     "output_type": "stream",
     "text": [
      "100%|█████████████████████████████████████████████████████████████████████████████████| 80/80 [00:00<00:00, 280.15it/s]\n"
     ]
    },
    {
     "name": "stdout",
     "output_type": "stream",
     "text": [
      "1360\n",
      "WARNING:tensorflow:From C:\\Users\\X542\\anaconda3\\lib\\site-packages\\tensorflow\\python\\ops\\init_ops.py:1251: calling VarianceScaling.__init__ (from tensorflow.python.ops.init_ops) with dtype is deprecated and will be removed in a future version.\n",
      "Instructions for updating:\n",
      "Call initializer instance with the dtype argument instead of passing it to the constructor\n",
      "Model: \"sequential\"\n",
      "_________________________________________________________________\n",
      "Layer (type)                 Output Shape              Param #   \n",
      "=================================================================\n",
      "vgg16 (Model)                (None, 4, 4, 512)         14714688  \n",
      "_________________________________________________________________\n",
      "conv2d (Conv2D)              (None, 4, 4, 32)          409632    \n",
      "_________________________________________________________________\n",
      "max_pooling2d (MaxPooling2D) (None, 2, 2, 32)          0         \n",
      "_________________________________________________________________\n",
      "dropout (Dropout)            (None, 2, 2, 32)          0         \n",
      "_________________________________________________________________\n",
      "conv2d_1 (Conv2D)            (None, 2, 2, 64)          18496     \n",
      "_________________________________________________________________\n",
      "max_pooling2d_1 (MaxPooling2 (None, 1, 1, 64)          0         \n",
      "_________________________________________________________________\n",
      "dropout_1 (Dropout)          (None, 1, 1, 64)          0         \n",
      "_________________________________________________________________\n",
      "conv2d_2 (Conv2D)            (None, 1, 1, 96)          55392     \n",
      "_________________________________________________________________\n",
      "max_pooling2d_2 (MaxPooling2 (None, 1, 1, 96)          0         \n",
      "_________________________________________________________________\n",
      "dropout_2 (Dropout)          (None, 1, 1, 96)          0         \n",
      "_________________________________________________________________\n",
      "conv2d_3 (Conv2D)            (None, 1, 1, 96)          83040     \n",
      "_________________________________________________________________\n",
      "max_pooling2d_3 (MaxPooling2 (None, 1, 1, 96)          0         \n",
      "_________________________________________________________________\n",
      "dropout_3 (Dropout)          (None, 1, 1, 96)          0         \n",
      "_________________________________________________________________\n",
      "flatten (Flatten)            (None, 96)                0         \n",
      "_________________________________________________________________\n",
      "dense (Dense)                (None, 512)               49664     \n",
      "_________________________________________________________________\n",
      "activation (Activation)      (None, 512)               0         \n",
      "_________________________________________________________________\n",
      "dense_1 (Dense)              (None, 17)                8721      \n",
      "=================================================================\n",
      "Total params: 15,339,633\n",
      "Trainable params: 624,945\n",
      "Non-trainable params: 14,714,688\n",
      "_________________________________________________________________\n",
      "Epoch 1/50\n",
      "2/8 [======>.......................] - ETA: 1:23 - loss: 2.8342 - acc: 0.0859"
     ]
    }
   ],
   "source": [
    "import os\n",
    "print(os.listdir('D:/17flowers'))\n",
    "\n",
    "# Ignore  the warnings\n",
    "import warnings\n",
    "warnings.filterwarnings('always')\n",
    "warnings.filterwarnings('ignore')\n",
    "\n",
    "# data visualisation and manipulation\n",
    "import numpy as np\n",
    "import matplotlib.pyplot as plt\n",
    "\n",
    "#model selection\n",
    "from sklearn.model_selection import train_test_split\n",
    "from sklearn.preprocessing import LabelEncoder\n",
    "\n",
    "#preprocess.\n",
    "from tensorflow.keras.preprocessing.image import ImageDataGenerator\n",
    "\n",
    "#dl libraraies\n",
    "from tensorflow.keras.models import Sequential\n",
    "from tensorflow.keras.layers import Dense\n",
    "from tensorflow.keras.optimizers import Adam\n",
    "from tensorflow.keras.utils import to_categorical\n",
    "from tensorflow.keras.applications import VGG16\n",
    "from tensorflow.keras.preprocessing.image import ImageDataGenerator\n",
    "from tensorflow.keras import layers, optimizers\n",
    "from tensorflow.keras.applications import VGG16\n",
    "\n",
    "\n",
    "# specifically for cnn\n",
    "from tensorflow.keras.layers import Dropout, Flatten,Activation\n",
    "from tensorflow.keras.layers import Conv2D, MaxPooling2D\n",
    " \n",
    "import tensorflow as tf\n",
    "import random as rn\n",
    "\n",
    "# specifically for manipulating zipped images and getting numpy arrays of pixel values of images.\n",
    "import cv2                  \n",
    "import numpy as np  \n",
    "from tqdm import tqdm\n",
    "import os\n",
    "\n",
    "\n",
    "X=[]\n",
    "Z=[]\n",
    "IMG_SIZE=150\n",
    "FLOWER_bluebell_DIR='D:/17flowers/bluebell'\n",
    "FLOWER_buttercup_DIR='D:/17flowers/buttercup'\n",
    "FLOWER_coltsfoot_DIR='D:/17flowers/coltsfoot'\n",
    "FLOWER_cowslip_DIR='D:/17flowers/cowslip'\n",
    "FLOWER_crocus_DIR='D:/17flowers/crocus'\n",
    "FLOWER_Daffodil_DIR='D:/17flowers/Daffodil'\n",
    "FLOWER_Daisy_DIR='D:/17flowers/Daisy'\n",
    "FLOWER_dandelion_DIR='D:/17flowers/dandelion'\n",
    "FLOWER_fritillary_DIR='D:/17flowers/fritillary'\n",
    "FLOWER_iris_DIR='D:/17flowers/iris'\n",
    "FLOWER_lilyvalley_DIR='D:/17flowers/lilyvalley'\n",
    "FLOWER_pansy_DIR='D:/17flowers/pansy'\n",
    "FLOWER_Snowdrop_DIR='D:/17flowers/Snowdrop'\n",
    "FLOWER_sunflower_DIR='D:/17flowers/sunflower'\n",
    "FLOWER_tigerlily_DIR='D:/17flowers/tigerlily'\n",
    "FLOWER_tulip_DIR='D:/17flowers/tulip'\n",
    "FLOWER_windflower_DIR='D:/17flowers/windflower'\n",
    "\n",
    "def assign_label(img,flower_type):\n",
    "    return flower_type\n",
    "\n",
    "def make_train_data(flower_type,DIR):\n",
    "    for img in tqdm(os.listdir(DIR)):\n",
    "        try:\n",
    "            label=assign_label(img,flower_type)\n",
    "            path = os.path.join(DIR,img)\n",
    "            img = cv2.imread(path,cv2.IMREAD_COLOR)\n",
    "            img = cv2.resize(img, (IMG_SIZE,IMG_SIZE))\n",
    "        \n",
    "            X.append(np.array(img))\n",
    "            Z.append(str(label))\n",
    "\n",
    "        except Exception as e:\n",
    "            print(str(e))\n",
    "\n",
    "make_train_data('bluebell',FLOWER_bluebell_DIR)\n",
    "print(len(X))\n",
    "\n",
    "make_train_data('buttercup',FLOWER_buttercup_DIR)\n",
    "print(len(X))\n",
    "\n",
    "make_train_data('coltsfoot',FLOWER_coltsfoot_DIR)\n",
    "print(len(X))\n",
    "\n",
    "make_train_data('cowslip',FLOWER_cowslip_DIR)\n",
    "print(len(X))\n",
    "\n",
    "make_train_data('crocus',FLOWER_crocus_DIR)\n",
    "print(len(X))\n",
    "make_train_data('Daffodil',FLOWER_Daffodil_DIR)\n",
    "print(len(X))\n",
    "make_train_data('Daisy',FLOWER_Daisy_DIR)\n",
    "print(len(X))\n",
    "make_train_data('dandelion',FLOWER_dandelion_DIR)\n",
    "print(len(X))\n",
    "make_train_data('fritillary',FLOWER_fritillary_DIR)\n",
    "print(len(X))\n",
    "make_train_data('iris',FLOWER_iris_DIR)\n",
    "print(len(X))\n",
    "make_train_data('lilyvalley',FLOWER_lilyvalley_DIR)\n",
    "print(len(X))\n",
    "make_train_data('pansy',FLOWER_pansy_DIR)\n",
    "print(len(X))\n",
    "make_train_data('Snowdrop',FLOWER_Snowdrop_DIR)\n",
    "print(len(X))\n",
    "make_train_data('sunflower',FLOWER_sunflower_DIR)\n",
    "print(len(X))\n",
    "make_train_data('tigerlily',FLOWER_tigerlily_DIR)\n",
    "print(len(X))\n",
    "make_train_data('tulip',FLOWER_tulip_DIR)\n",
    "print(len(X))\n",
    "make_train_data('windflower',FLOWER_windflower_DIR)\n",
    "print(len(X))\n",
    "\n",
    "\n",
    "#標籤對Y數組進行編碼（即Daisy-> 0，Rose-> 1等...）然後進行一次熱編碼\n",
    "le=LabelEncoder()\n",
    "Y=le.fit_transform(Z)\n",
    "Y=to_categorical(Y,17)\n",
    "X=np.array(X)\n",
    "X=X/255\n",
    "\n",
    "#分為訓練和驗證集\n",
    "x_train,x_test,y_train,y_test=train_test_split(X,Y,test_size=0.2,random_state=42)\n",
    "\n",
    "#設置隨機種子\n",
    "np.random.seed(42)\n",
    "rn.seed(42)\n",
    "tf.random.set_random_seed(42)\n",
    "\n",
    "#建模開始使用CNN\n",
    "model = Sequential()\n",
    "conv_base = VGG16(weights='imagenet', input_shape=(150,150,3), include_top=False)\n",
    "conv_base.trainable=False\n",
    "model.add(conv_base)\n",
    "\n",
    "\n",
    "model.add(Conv2D(filters = 32, kernel_size = (5,5),padding = 'Same',activation ='relu', input_shape = (150,150,3)))\n",
    "model.add(MaxPooling2D(pool_size=(2,2), padding='same'))\n",
    "model.add(Dropout(0.2))\n",
    "\n",
    "model.add(Conv2D(filters = 64, kernel_size = (3,3),padding = 'Same',activation ='relu'))\n",
    "model.add(MaxPooling2D(pool_size=(2,2), strides=(2,2), padding='same'))\n",
    "model.add(Dropout(0.2))\n",
    "\n",
    "model.add(Conv2D(filters =96, kernel_size = (3,3),padding = 'Same',activation ='relu'))\n",
    "model.add(MaxPooling2D(pool_size=(2,2), strides=(2,2), padding='same'))\n",
    "model.add(Dropout(0.2))\n",
    "\n",
    "model.add(Conv2D(filters = 96, kernel_size = (3,3),padding = 'Same',activation ='relu'))\n",
    "model.add(MaxPooling2D(pool_size=(2,2), strides=(2,2), padding='same'))\n",
    "model.add(Dropout(0.2))\n",
    "\n",
    "model.add(Flatten())\n",
    "model.add(Dense(512))\n",
    "model.add(Activation('relu'))\n",
    "model.add(Dense(17, activation = \"softmax\"))\n",
    "\n",
    "batch_size=128\n",
    "epochs=50\n",
    "\n",
    "#數據擴充以防止過度擬合\n",
    "datagen = ImageDataGenerator(\n",
    "        featurewise_center=False,  # set input mean to 0 over the dataset\n",
    "        samplewise_center=False,  # set each sample mean to 0\n",
    "        featurewise_std_normalization=False,  # divide inputs by std of the dataset\n",
    "        samplewise_std_normalization=False,  # divide each input by its std\n",
    "        zca_whitening=False,  # apply ZCA whitening\n",
    "        rotation_range=10,  # randomly rotate images in the range (degrees, 0 to 180)\n",
    "        zoom_range = 0.1, # Randomly zoom image \n",
    "        width_shift_range=0.2,  # randomly shift images horizontally (fraction of total width)\n",
    "        height_shift_range=0.2,  # randomly shift images vertically (fraction of total height)\n",
    "        horizontal_flip=True,  # randomly flip images\n",
    "        vertical_flip=False)  # randomly flip images\n",
    "\n",
    "\n",
    "datagen.fit(x_train)\n",
    "\n",
    "#編譯Keras模型和摘要\n",
    "model.compile(optimizer=Adam(lr=0.001),loss='categorical_crossentropy',metrics=['accuracy'])\n",
    "\n",
    "model.summary()\n",
    "\n",
    "#擬合訓練集並對驗證集進行預測\n",
    "history = model.fit_generator(datagen.flow(x_train,y_train, batch_size=batch_size),\n",
    "                              epochs = epochs, validation_data = (x_test,y_test),\n",
    "                              verbose = 1, steps_per_epoch=x_train.shape[0] // batch_size)\n",
    "\n",
    "\n",
    "# saving the model\n",
    "model.save('model.pretrained.h5')\n",
    "\n",
    "#評估模型性能\n",
    "plt.plot(history.history['loss'])\n",
    "plt.plot(history.history['val_loss'])\n",
    "plt.title('Model Loss')\n",
    "plt.ylabel('Loss')\n",
    "plt.xlabel('Epochs')\n",
    "plt.legend(['train', 'test'])\n",
    "plt.savefig('model_loss_pretrained.png')\n",
    "plt.show()\n",
    "\n",
    "plt.clf()\n",
    "plt.plot(history.history['acc'])\n",
    "plt.plot(history.history['val_acc'])\n",
    "plt.title('Model Accuracy')\n",
    "plt.ylabel('Accuracy')\n",
    "plt.xlabel('Epochs')\n",
    "plt.legend(['train', 'test'])\n",
    "plt.savefig('model_acc_pretrained.png')\n",
    "plt.show()\n",
    "plt.clf()\n",
    "\n"
   ]
  },
  {
   "cell_type": "code",
   "execution_count": null,
   "metadata": {},
   "outputs": [],
   "source": []
  }
 ],
 "metadata": {
  "kernelspec": {
   "display_name": "Python 3",
   "language": "python",
   "name": "python3"
  },
  "language_info": {
   "codemirror_mode": {
    "name": "ipython",
    "version": 3
   },
   "file_extension": ".py",
   "mimetype": "text/x-python",
   "name": "python",
   "nbconvert_exporter": "python",
   "pygments_lexer": "ipython3",
   "version": "3.7.6"
  }
 },
 "nbformat": 4,
 "nbformat_minor": 4
}
